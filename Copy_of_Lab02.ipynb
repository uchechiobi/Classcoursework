{
  "cells": [
    {
      "cell_type": "markdown",
      "metadata": {
        "id": "view-in-github",
        "colab_type": "text"
      },
      "source": [
        "<a href=\"https://colab.research.google.com/github/LMU-CMSI-1010/lab-notebooks-uchechiobi/blob/main/Copy_of_Lab02.ipynb\" target=\"_parent\"><img src=\"https://colab.research.google.com/assets/colab-badge.svg\" alt=\"Open In Colab\"/></a>"
      ]
    },
    {
      "cell_type": "markdown",
      "metadata": {
        "id": "ufAF2GF2-PbJ"
      },
      "source": [
        "<a href=\"https://colab.research.google.com/github/LMU-CMSI-1010/lab-notebooks-original/blob/main/Lab02.ipynb\" target=\"_parent\"><img src=\"https://colab.research.google.com/assets/colab-badge.svg\" alt=\"Open In Colab\"/></a>"
      ]
    },
    {
      "cell_type": "markdown",
      "metadata": {
        "id": "9aXfrLXg9seM"
      },
      "source": [
        "# Lab 02 Sorting Hogwarts\n",
        "In this lab you will practice using conditional statements in order to sort your user into a Hogwarts house.\n",
        "\n",
        "## Asking for user preferences\n",
        "We will ask users a series of questions. This code will be provided to you. You will need to save responses from users and keep track of the preferences in terms of counts for each house.\n",
        "\n"
      ]
    },
    {
      "cell_type": "markdown",
      "metadata": {
        "id": "oH_PT-1bu19E"
      },
      "source": [
        "## Counts for each House\n",
        "We will use the following integer variables to keep track of whether the response given by users should place them in the house. There is a variable for each house and we will guide you when to increment each. Remember that *increment* means to add 1 to its value."
      ]
    },
    {
      "cell_type": "code",
      "execution_count": 52,
      "metadata": {
        "id": "O2m4hak_va-j"
      },
      "outputs": [],
      "source": [
        "# Variables to keep track of responses that show preferences for each House\n",
        "# You do not need to change the code in this cell and will use these variables\n",
        "# for the rest of the lab\n",
        "# The name of each variable is a House and you will increment if the user\n",
        "# response shows preference for that House.\n",
        "gryffindor = 0\n",
        "hufflepuff = 0\n",
        "ravenclaw = 0\n",
        "slytherin = 0"
      ]
    },
    {
      "cell_type": "markdown",
      "metadata": {
        "id": "LCUmYgcomFGg"
      },
      "source": [
        "## Q1:"
      ]
    },
    {
      "cell_type": "code",
      "execution_count": 53,
      "metadata": {
        "id": "5DUZ_9hPmxCi",
        "colab": {
          "base_uri": "https://localhost:8080/"
        },
        "outputId": "c0a56a46-0729-4315-ae9e-6c8fcfd78b4c"
      },
      "outputs": [
        {
          "output_type": "stream",
          "name": "stdout",
          "text": [
            "After I have passed away, I want people to remember me as:\n",
            "  1) The Good\n",
            "  2) The Great\n",
            "  3) The Wise\n",
            "  4) The Bold\n"
          ]
        }
      ],
      "source": [
        "# Question 1\n",
        "print('After I have passed away, I want people to remember me as:')\n",
        "print('  1) The Good')\n",
        "print('  2) The Great')\n",
        "print('  3) The Wise')\n",
        "print('  4) The Bold')\n",
        "\n"
      ]
    },
    {
      "cell_type": "markdown",
      "metadata": {
        "id": "GbGRzW9SwaW7"
      },
      "source": [
        "In the following cell, **ask the user to enter a corresponding number from above (e.g. \"Please enter your number choice\") and save the response from the user**. Remember that when a user enters a response, Python treats it as a string until told to treat as number."
      ]
    },
    {
      "cell_type": "code",
      "execution_count": 54,
      "metadata": {
        "id": "LLzzUjIGwZix",
        "outputId": "4c43ec22-74f0-4930-e59f-29f2f4204e3e",
        "colab": {
          "base_uri": "https://localhost:8080/"
        }
      },
      "outputs": [
        {
          "name": "stdout",
          "output_type": "stream",
          "text": [
            "please enter your number choice1\n"
          ]
        }
      ],
      "source": [
        "# TODO: Prompt user to enter number choice and save the number entered as a variable.\n",
        "num_choice= int(input('please enter your number choice'))\n"
      ]
    },
    {
      "cell_type": "markdown",
      "metadata": {
        "id": "5yNGFER9xNjc"
      },
      "source": [
        "In the following cell, **based on the response from the user, increment the appropriate House count**. You will complete the conditional statement as specified in the comments. Right now it always prints good choice. (Why?)"
      ]
    },
    {
      "cell_type": "code",
      "execution_count": 55,
      "metadata": {
        "id": "_lGcvdh5xw6C"
      },
      "outputs": [],
      "source": [
        "# Change this if statement as specified in the comments\n",
        "\n",
        "if num_choice == 1:\n",
        "    hufflepuff += 1\n",
        "    pass # TODO: increment hufflepuff\n",
        "\n",
        "# TODO: else if the user's input is 1, increment hufflepuff\n",
        "elif num_choice == 2:\n",
        "  slytherin += 1\n",
        "elif num_choice == 3:\n",
        "  ravenclaw +=1\n",
        "elif num_choice == 4:\n",
        "  gryffindor +=1\n",
        "# TODO: else if the user's input is 2, increment slytherin\n",
        "# TODO: else if the user's input is 3, increment ravenclaw\n",
        "# TODO: else if the user's input is 4, increment gryffindor\n",
        "\n",
        "# Error handling: What happens if the user's input is not 1, 2, 3, or 4?\n",
        "# This else clause can be kept as is\n",
        "else:\n",
        "    print('Invalid choice')"
      ]
    },
    {
      "cell_type": "markdown",
      "metadata": {
        "id": "4dODrt9WnO-v"
      },
      "source": [
        "## Q2:"
      ]
    },
    {
      "cell_type": "code",
      "execution_count": 56,
      "metadata": {
        "id": "ncutxJBKniMh",
        "colab": {
          "base_uri": "https://localhost:8080/"
        },
        "outputId": "b1708a84-46cd-4cf6-abdf-632eee3c5672"
      },
      "outputs": [
        {
          "output_type": "stream",
          "name": "stdout",
          "text": [
            "Q2) Dawn or Dusk?\n",
            "  1) Dawn\n",
            "  2) Dusk\n"
          ]
        }
      ],
      "source": [
        "print('Q2) Dawn or Dusk?')\n",
        "print('  1) Dawn')\n",
        "print('  2) Dusk')"
      ]
    },
    {
      "cell_type": "code",
      "execution_count": 57,
      "metadata": {
        "id": "6dSl_gTHzfBm",
        "outputId": "1b778450-7d16-49f7-86d7-b4ca25611c45",
        "colab": {
          "base_uri": "https://localhost:8080/"
        }
      },
      "outputs": [
        {
          "name": "stdout",
          "output_type": "stream",
          "text": [
            "Please enter number choice2\n"
          ]
        }
      ],
      "source": [
        "# TODO: Prompt user to enter number choice and save the number entered as a variable.\n",
        "num =int(input('Please enter number choice'))"
      ]
    },
    {
      "cell_type": "markdown",
      "metadata": {
        "id": "R3rSX1wpztIC"
      },
      "source": [
        "In the following cell, **based on the response from the user, increment the appropriate House count**. You will complete the conditional statement as specified in the comments. (This is not a good way to write a conditional statement!)"
      ]
    },
    {
      "cell_type": "code",
      "execution_count": 59,
      "metadata": {
        "id": "Xf2dy7QWz1iQ"
      },
      "outputs": [],
      "source": [
        "# Change this statement as specified to increment the appropriate house based on\n",
        "# the user response\n",
        "if num == 1:\n",
        "  gryffindor +=1\n",
        "  ravenclaw += 1\n",
        "elif num == 2:\n",
        "  hufflepuff += 1\n",
        "  slytherin += 1\n",
        "  pass\n",
        "# TODO: else if the answer is 1, increment gryffindor and ravenclaw\n",
        "# TODO: else if the answer is 2, increment hufflepuff and slytherin\n",
        "# The else clause can be left as is\n",
        "else:\n",
        "    print('Invalid choice')"
      ]
    },
    {
      "cell_type": "markdown",
      "metadata": {
        "id": "E5-kf-6n05Fb"
      },
      "source": [
        "## Q3:"
      ]
    },
    {
      "cell_type": "code",
      "execution_count": 60,
      "metadata": {
        "id": "jDZDhGLQ08b0",
        "colab": {
          "base_uri": "https://localhost:8080/"
        },
        "outputId": "2f4aaae6-d709-4703-ca89-5d334a3edc68"
      },
      "outputs": [
        {
          "output_type": "stream",
          "name": "stdout",
          "text": [
            "Which kind of instrument most pleases your ear?\n",
            "  1) The violin\n",
            "  2) The trumpet\n",
            "  3) The piano\n",
            "  4) The drum\n"
          ]
        }
      ],
      "source": [
        "# Question 3\n",
        "print('Which kind of instrument most pleases your ear?')\n",
        "print('  1) The violin')\n",
        "print('  2) The trumpet')\n",
        "print('  3) The piano')\n",
        "print('  4) The drum')"
      ]
    },
    {
      "cell_type": "code",
      "execution_count": 61,
      "metadata": {
        "id": "yn1MVik70-X6",
        "outputId": "e9d11f35-0c9a-4739-cb18-163dea32626a",
        "colab": {
          "base_uri": "https://localhost:8080/"
        }
      },
      "outputs": [
        {
          "name": "stdout",
          "output_type": "stream",
          "text": [
            "please enter a number choice3\n"
          ]
        }
      ],
      "source": [
        "# TODO: Prompt user to enter number choice and save the number entered as a variable.\n",
        "numb1= int(input('please enter a number choice'))"
      ]
    },
    {
      "cell_type": "markdown",
      "metadata": {
        "id": "jrWA13-t1DII"
      },
      "source": [
        "In the following cell, **based on the response from the user, increment the appropriate House count**. You will complete the conditional statement as specified in the comments."
      ]
    },
    {
      "cell_type": "code",
      "execution_count": 62,
      "metadata": {
        "id": "XSZb06PT1S59"
      },
      "outputs": [],
      "source": [
        "# Change this statement as specified to increment the appropriate house based on\n",
        "# the user response\n",
        "if numb1 == 1:\n",
        "  slytherin +=1\n",
        "elif numb1 == 2:\n",
        "  hufflepuff += 1\n",
        "elif numb1 == 3:\n",
        "  ravenclaw += 1\n",
        "elif numb1 == 4:\n",
        "  gryffindor += 1\n",
        "     # TODO: increment slytherin\n",
        "# TODO: else if the answer is 2, increment hufflepuff\n",
        "# TODO: else if the answer is 3, increment ravenclaw\n",
        "# TODO: else if the answer is 4, increment gryffindor\n",
        "# This else clause can remain unchanged\n",
        "else:\n",
        "    print('Invalid choice')"
      ]
    },
    {
      "cell_type": "markdown",
      "metadata": {
        "id": "O8oF7J1OmCnQ"
      },
      "source": [
        "## Q4:\n",
        "Here's where we will need to practice *nested conditional* statements. *Nested conditional* statements are *if* statements within *if* statements. Here we will ask all users the same question. However, based on their response within the *if* statement you will need to ask another question and then increment the appropriate House count. We will get this started and save the first response."
      ]
    },
    {
      "cell_type": "code",
      "execution_count": 63,
      "metadata": {
        "id": "GWIPxLAS2ZgN",
        "colab": {
          "base_uri": "https://localhost:8080/"
        },
        "outputId": "f05d6855-1973-4269-89f6-01cf32efbb83"
      },
      "outputs": [
        {
          "name": "stdout",
          "output_type": "stream",
          "text": [
            "Do roads in nature tempt you the most?\n",
            "  1) Yes\n",
            "  2) No\n",
            "Please enter a number to answer:1\n"
          ]
        }
      ],
      "source": [
        "print('Do roads in nature tempt you the most?')\n",
        "print('  1) Yes')\n",
        "print('  2) No')\n",
        "\n",
        "choice = input('Please enter a number to answer:')\n",
        "select = int(choice)"
      ]
    },
    {
      "cell_type": "markdown",
      "metadata": {
        "id": "tuPX7Li-2YGw"
      },
      "source": [
        "Now based on the user reply, you will have to **ask the user the specific type of road and then use that to increment the appropriate house count**. We started out this if statement in the following cell and you will need to complete it by adding nested if statements and incrementing house counts as specified in the comments."
      ]
    },
    {
      "cell_type": "code",
      "execution_count": 64,
      "metadata": {
        "id": "mCuyN8JZqPhI",
        "colab": {
          "base_uri": "https://localhost:8080/"
        },
        "outputId": "c6dc22aa-3852-42ba-f594-01d1bacce596"
      },
      "outputs": [
        {
          "name": "stdout",
          "output_type": "stream",
          "text": [
            " 1) The Wide, sunny grassy lane\n",
            " 2) The twisting, leaf-strewn path through woods\n",
            "please enter a number to answer:2\n",
            " 1) The narrow, dark, lantern-lit alley\n",
            " 2) The cobbles street lined with ancient buildings\n",
            "please enter a number to answer:1\n"
          ]
        }
      ],
      "source": [
        "print(' 1) The Wide, sunny grassy lane')\n",
        "print(' 2) The twisting, leaf-strewn path through woods')\n",
        "choice = input('please enter a number to answer:')\n",
        "select = int(choice)\n",
        "if select == 1:\n",
        "  hufflepuff += 1\n",
        "\n",
        "    # TODO: Ask user if they prefer\n",
        "    # 1) The wide, sunny grassy lane\n",
        "    # 2) The twisting, leaf-strewn path through woods\n",
        "\n",
        "    # TODO: Save response as integer\n",
        "\n",
        "    # TODO: If grassy lane, increment hufflepuff\n",
        "    # TODO: If woods, increment gryffindor\n",
        "    # No need to worry about error checking\n",
        "elif select == 2:\n",
        "    gryffindor += 1\n",
        "\n",
        "print(' 1) The narrow, dark, lantern-lit alley')\n",
        "print(' 2) The cobbles street lined with ancient buildings')\n",
        "choice = input('please enter a number to answer:')\n",
        "select = int(choice)\n",
        "if select == 1:\n",
        "  slytherin += 1\n",
        "elif select == 2:\n",
        "  ravenclaw +=1\n",
        "\n",
        "    # TODO: Ask user if they prefer\n",
        "    # 1) The narrow, dark, lantern-lit alley\n",
        "    # 2) The cobbled street lined with ancient buildings\n",
        "\n",
        "    # TODO: Save response as integer\n",
        "\n",
        "    # TODO: If alley, increment slytherin\n",
        "    # TODO: If cobbled street, increment ravenclaw\n",
        "    # No need to worry about error checking\n",
        "else:\n",
        "    print('Invalid choice')\n"
      ]
    },
    {
      "cell_type": "markdown",
      "metadata": {
        "id": "OIWaikgzrzdR"
      },
      "source": [
        "## Challenge! Determining Appropriate House\n",
        "Now that we have tallied all the responses, can you figure out which house has the maximum number of responses? That will be the house for the user. If there is a tie, break the tie using alphabetical order: Gryffindor, Hufflepuff, Ravenclaw, Slytherin (in that order). We will get you started and show what needs to be printed, but you need to **figure out what house has the maximum count** using the count variables above.\n"
      ]
    },
    {
      "cell_type": "code",
      "execution_count": 65,
      "metadata": {
        "id": "TM3VQOMVtiU4",
        "colab": {
          "base_uri": "https://localhost:8080/"
        },
        "outputId": "507a1962-6669-4778-ef1b-22b4994c2c7e"
      },
      "outputs": [
        {
          "output_type": "stream",
          "name": "stdout",
          "text": [
            "Congrats on being sorted into...None!\n"
          ]
        }
      ],
      "source": [
        "# Let's make a string variable to keep track of the house.\n",
        "house = 'None'\n",
        "\n",
        "# Let's keep track of the max_count\n",
        "max = 0\n",
        "gryffindor = 0\n",
        "hufflepuff = 0\n",
        "ravenclaw = 0\n",
        "slytherin = 0\n",
        "\n",
        "# How can you find the House with the max count?\n",
        "# Remember that in the event of a tie, the user should be sorted into\n",
        "# the House in alphabetical order, so\n",
        "# Gryffindor before Hufflepuff before Ravenclaw before Slytherin\n",
        "# Could comparing house counts in that order help you find the max?\n",
        "\n",
        "# if gryffindor is more than the current max,\n",
        "# update max and set house to 'Gryffindor'\n",
        "if gryffindor > max:\n",
        "  house = 'Gryffindor'\n",
        "  max = gryffindor\n",
        "elif hufflepuff > max:\n",
        "  house = 'Hufflepuff'\n",
        "  max = hufflepuff\n",
        "elif ravenclaw > max:\n",
        "  house = 'Ravenclaw'\n",
        "  max = ravenclaw\n",
        "elif slytherin > max:\n",
        "  house = 'Slytherin'\n",
        "  max = slytherin\n",
        "\n",
        "# TODO: Check if Hufflepuff is more than the current max\n",
        "# TODO: Check if Ravenclaw is more than the current max\n",
        "# TODO: Check if Slythern is more than the current max\n",
        "\n",
        "# The following code does not need to be changed.\n",
        "# If the user entered all invalid responses and no house has any counts\n",
        "# the user cannot be sorted into a house, so it is fine if house is 'None'\n",
        "# at this point\n",
        "\n",
        "print('Congrats on being sorted into...' + house + '!')"
      ]
    },
    {
      "cell_type": "markdown",
      "metadata": {
        "id": "dKL0LYd-E4JB"
      },
      "source": [
        "### (Optional) Reflections\n",
        "Add a text cell below to answer the following questions:\n",
        "1. What do you feel more confident about after completing this lab?\n",
        "2. What do you feel you can use more help with after completing this lab?\n",
        "3. Do you have any constructive suggestions on how we can help you or improve this lab?"
      ]
    },
    {
      "cell_type": "markdown",
      "metadata": {
        "id": "gB1aHDpyFYey"
      },
      "source": [
        "### Save your work to GitHub\n",
        "Please save this notebook to your **lab repository** _LMU-CMSI-1010/lab-notebooks-YOURID_"
      ]
    },
    {
      "cell_type": "code",
      "execution_count": null,
      "metadata": {
        "id": "ah_Aa36K-Pb4"
      },
      "outputs": [],
      "source": []
    }
  ],
  "metadata": {
    "kernelspec": {
      "display_name": "Python 3",
      "language": "python",
      "name": "python3"
    },
    "language_info": {
      "codemirror_mode": {
        "name": "ipython",
        "version": 3
      },
      "file_extension": ".py",
      "mimetype": "text/x-python",
      "name": "python",
      "nbconvert_exporter": "python",
      "pygments_lexer": "ipython3",
      "version": "3.8.5"
    },
    "colab": {
      "provenance": [],
      "include_colab_link": true
    }
  },
  "nbformat": 4,
  "nbformat_minor": 0
}