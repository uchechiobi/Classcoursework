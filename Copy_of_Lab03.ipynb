{
  "cells": [
    {
      "cell_type": "markdown",
      "metadata": {
        "id": "view-in-github",
        "colab_type": "text"
      },
      "source": [
        "<a href=\"https://colab.research.google.com/github/LMU-CMSI-1010/lab-notebooks-uchechiobi/blob/main/Copy_of_Lab03.ipynb\" target=\"_parent\"><img src=\"https://colab.research.google.com/assets/colab-badge.svg\" alt=\"Open In Colab\"/></a>"
      ]
    },
    {
      "cell_type": "markdown",
      "metadata": {
        "id": "Lt92sp27GiVj"
      },
      "source": [
        "<a href=\"https://colab.research.google.com/github/LMU-CMSI-1010/lab-notebooks-original/blob/main/Lab03.ipynb\" target=\"_parent\"><img src=\"https://colab.research.google.com/assets/colab-badge.svg\" alt=\"Open In Colab\"/></a>"
      ]
    },
    {
      "cell_type": "markdown",
      "metadata": {
        "id": "9aXfrLXg9seM"
      },
      "source": [
        "# Lab 03 Heat-Check\n",
        "In this lab you will practice writing functions that print results to the user and that return values.\n",
        "\n",
        "## From Celsius to Fahrenheit\n",
        "\n",
        "In class we presented a function that, given a temperature in Celsius, will print the temperature in Fahrenheit. We include it below as an example that you will use for the next function.\n",
        "\n"
      ]
    },
    {
      "cell_type": "code",
      "execution_count": 32,
      "metadata": {
        "id": "Rt0kFDWS9RJU",
        "colab": {
          "base_uri": "https://localhost:8080/"
        },
        "outputId": "88d82b7e-de1c-4959-8039-fc13107eb11f"
      },
      "outputs": [
        {
          "output_type": "stream",
          "name": "stdout",
          "text": [
            "0.0 C == 32.0 F\n"
          ]
        }
      ],
      "source": [
        "def print_as_fahrenheit(c):\n",
        "    f = ((9.0 / 5.0) * c) + 32.0\n",
        "    print(c, 'C ==', f, 'F')\n",
        "\n",
        "\n",
        "print_as_fahrenheit(0.0)"
      ]
    },
    {
      "cell_type": "markdown",
      "metadata": {
        "id": "y2c-tRWA91fr"
      },
      "source": [
        "## From Fahrenheit to Celsius\n",
        "\n",
        "Using the function `print_as_fahrenheit` for how to make the conversion between Fahrenheit and Celsius, **write a function `print_as_celsius(f)`**. This function should take as input a temperature in Fahrenheit and print the temperature in Celsius. We have given an example of how it should be printed for the example above."
      ]
    },
    {
      "cell_type": "code",
      "execution_count": 33,
      "metadata": {
        "id": "NMcvm3E4-sl_",
        "colab": {
          "base_uri": "https://localhost:8080/"
        },
        "outputId": "56badbfb-12c9-4fb5-c9bd-da7446065441"
      },
      "outputs": [
        {
          "output_type": "stream",
          "name": "stdout",
          "text": [
            "2.1 f == -16.61111111111111 c\n"
          ]
        }
      ],
      "source": [
        "# TODO: Write a function that, given a temperature in Fahrenheit, prints the\n",
        "# temperature in Celsius. The conversion is subtract 32, then multiply by 5/9.\n",
        "def print_as_celsius(f):\n",
        "  c = (f-32)*(5/9)\n",
        "# Call this function print_as_celsius().\n",
        "  print(f, 'f ==', c, 'c')\n",
        "# This is sample output! Make sure to do this for real.\n",
        "print_as_celsius(2.1)"
      ]
    },
    {
      "cell_type": "markdown",
      "metadata": {
        "id": "zXC7orYI_T3E"
      },
      "source": [
        "## Testing your code\n",
        "The following code will use the function provided to print the Celsius temperature in Fahrenheit and the function you have written to print the temperature in Fahrenheit in Celsius. **Test your code using the code below and add at least two more function calls to test your code.**"
      ]
    },
    {
      "cell_type": "code",
      "execution_count": 34,
      "metadata": {
        "id": "fpq9XjRC_TJG",
        "colab": {
          "base_uri": "https://localhost:8080/"
        },
        "outputId": "e38cb632-c0c2-48e6-cd30-233e45852efc"
      },
      "outputs": [
        {
          "output_type": "stream",
          "name": "stdout",
          "text": [
            "37 C == 98.60000000000001 F\n",
            "98.6 f == 37.0 c\n"
          ]
        }
      ],
      "source": [
        "# This code will only work once you write your function above.\n",
        "# Check that the results are consistent.\n",
        "print_as_fahrenheit(37)\n",
        "print_as_celsius(98.6)\n",
        "\n",
        "# TODO: Can you add two more calls to your function to make sure that it\n",
        "# works properly?"
      ]
    },
    {
      "cell_type": "markdown",
      "metadata": {
        "id": "FBvQb4tOArmq"
      },
      "source": [
        "## Converting from miles to meters\n",
        "In the following cell, **write a function called `miles_to_meters` that, given a number of miles, *returns* the number of meters**. Remember that one mile is 1.60934 kilometers and 1 kilometer is 1000 meters, so there are 1,609.34 meters in one mile."
      ]
    },
    {
      "cell_type": "code",
      "execution_count": 35,
      "metadata": {
        "id": "gLFgAtynBorm"
      },
      "outputs": [],
      "source": [
        "# TODO: Write the function miles_to_meters.\n",
        "def miles_to_meters(mi):\n",
        "  m= (mi * 1609.34)\n",
        "  return m\n",
        "\n",
        "\n",
        "\n",
        "\n",
        "# - Single argument is a number of miles.\n",
        "# - Return value should be the number of meters.\n",
        "# - Nothing needs to be printed to the screen.\n",
        "# - We will test the code in the following cell.\n"
      ]
    },
    {
      "cell_type": "markdown",
      "metadata": {
        "id": "ILJ5Cy29CC68"
      },
      "source": [
        "## Testing the mile conversion\n",
        "In the following code we test your function. **You can modify this code or add more code to it to test your function.**"
      ]
    },
    {
      "cell_type": "code",
      "execution_count": 36,
      "metadata": {
        "id": "jvIpU4DECTli",
        "colab": {
          "base_uri": "https://localhost:8080/"
        },
        "outputId": "ae8cc1a1-8a71-4840-bacc-cf4180d284cb"
      },
      "outputs": [
        {
          "output_type": "stream",
          "name": "stdout",
          "text": [
            "5 miles == 8046.7 meters\n"
          ]
        }
      ],
      "source": [
        "# TODO: Code in this cell will not work until you have written miles_to_meters\n",
        "mile_test = 5\n",
        "meter_test = miles_to_meters(mile_test)\n",
        "print(mile_test , 'miles ==', meter_test, 'meters')\n",
        "\n",
        "\n",
        "# We use this code to test your function. Do not modify these.\n",
        "assert(int(meter_test) == 8046)\n",
        "assert(int(miles_to_meters(1)) == 1609)"
      ]
    },
    {
      "cell_type": "markdown",
      "metadata": {
        "id": "tUJEMX4ZC_ka"
      },
      "source": [
        "## Calculating the total bill\n",
        "In the following cell **write a function, `calculate_total`, that receives as parameters a `price` (represented by a float) and a `percent` (represented as an integer) and returns the total price, including a percent increase as given by the `percent` parameter.**"
      ]
    },
    {
      "cell_type": "code",
      "execution_count": 37,
      "metadata": {
        "id": "OvRHXmU5EcOw"
      },
      "outputs": [],
      "source": [
        "# TODO: write calculate_total function\n",
        "def calculate_total(price, percent):\n",
        "  increase = (percent/100)*price\n",
        "  total_price= price + increase\n",
        "  return total_price\n",
        "\n",
        "# Parameters: float for price, integer for percent\n",
        "# Returns: float for total price with percent increase"
      ]
    },
    {
      "cell_type": "markdown",
      "metadata": {
        "id": "uP31YvtMDvtM"
      },
      "source": [
        "## Testing the calculate function\n",
        "**Complete the following testing code as specified in the comments.**"
      ]
    },
    {
      "cell_type": "code",
      "execution_count": 42,
      "metadata": {
        "id": "zn6Si5SZP-lg",
        "colab": {
          "base_uri": "https://localhost:8080/"
        },
        "outputId": "a163a334-d04a-469f-d23d-09890a84b915"
      },
      "outputs": [
        {
          "output_type": "stream",
          "name": "stdout",
          "text": [
            "91.7125\n"
          ]
        }
      ],
      "source": [
        "test_price = 79.75\n",
        "test_percent = 15\n",
        "\n",
        "# - TODO: Call your function on the test price and test percent and save the result\n",
        "test_result = calculate_total(test_price, test_percent)\n",
        "#   to a new variable called test_result\n",
        "#\n",
        "# - TODO: Print the new total\n",
        "print(test_result)\n",
        "\n",
        "# We use this code to test your function. Do not modify these.\n",
        "assert(test_result == 91.7125)\n",
        "assert(calculate_total(30, 20) == 36.0)"
      ]
    },
    {
      "cell_type": "markdown",
      "metadata": {
        "id": "dKL0LYd-E4JB"
      },
      "source": [
        "### (Optional) Reflections\n",
        "Add a text cell below to answer the following questions:\n",
        "1. What do you feel more confident about after completing this lab?\n",
        "2. What do you feel you can use more help with after completing this lab?\n",
        "3. Do you have any constructive suggestions on how we can help you or improve this lab?"
      ]
    },
    {
      "cell_type": "markdown",
      "metadata": {
        "id": "gB1aHDpyFYey"
      },
      "source": [
        "### Save your work to GitHub\n",
        "Please save this notebook to your **lab repository** _LMU-CMSI-1010/lab-notebooks-YOURID_"
      ]
    }
  ],
  "metadata": {
    "kernelspec": {
      "display_name": "Python 3",
      "language": "python",
      "name": "python3"
    },
    "language_info": {
      "codemirror_mode": {
        "name": "ipython",
        "version": 3
      },
      "file_extension": ".py",
      "mimetype": "text/x-python",
      "name": "python",
      "nbconvert_exporter": "python",
      "pygments_lexer": "ipython3",
      "version": "3.8.5"
    },
    "colab": {
      "provenance": [],
      "include_colab_link": true
    }
  },
  "nbformat": 4,
  "nbformat_minor": 0
}